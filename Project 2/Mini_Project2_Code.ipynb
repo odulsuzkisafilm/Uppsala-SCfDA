{
 "cells": [
  {
   "cell_type": "code",
   "execution_count": 1,
   "metadata": {
    "colab": {
     "base_uri": "https://localhost:8080/"
    },
    "id": "F9lwpVPizjmG",
    "outputId": "a87e0b6f-d491-4b64-a0dc-20b9a235b9e7"
   },
   "outputs": [],
   "source": [
    "import numpy as np\n",
    "import matplotlib.pyplot as plt\n",
    "from IPython.display import set_matplotlib_formats\n",
    "set_matplotlib_formats('png','pdf')"
   ]
  },
  {
   "cell_type": "code",
   "execution_count": 2,
   "metadata": {
    "id": "eAxRDOzEzjmH"
   },
   "outputs": [],
   "source": [
    "TrainMat = np.load('TrainDigits.npy')\n",
    "TrainLabel = np.load('TrainLabels.npy')\n",
    "TestMat = np.load('TestDigits.npy')\n",
    "TestLabel = np.load('TestLabels.npy')"
   ]
  },
  {
   "cell_type": "code",
   "execution_count": 3,
   "metadata": {
    "colab": {
     "base_uri": "https://localhost:8080/"
    },
    "id": "GBCKRHN8zjmH",
    "outputId": "d7ee465f-909e-451a-c4c9-fee0ff08c0cb"
   },
   "outputs": [
    {
     "name": "stdout",
     "output_type": "stream",
     "text": [
      "TrainMat shape: (784, 240000)\n",
      "TrainLabel shape: (1, 240000)\n",
      "TestMat shape: (784, 40000)\n",
      "TestLabel shape: (1, 40000)\n"
     ]
    }
   ],
   "source": [
    "print(\"TrainMat shape:\", TrainMat.shape)\n",
    "print(\"TrainLabel shape:\", TrainLabel.shape)\n",
    "print(\"TestMat shape:\", TestMat.shape)\n",
    "print(\"TestLabel shape:\", TestLabel.shape)"
   ]
  },
  {
   "cell_type": "code",
   "execution_count": 5,
   "metadata": {
    "id": "jjyqqa8ozjmI"
   },
   "outputs": [],
   "source": [
    "def sort_function(i, TrainLabel, TrainMat):\n",
    "    # Flatten the TrainLabel array\n",
    "    flattened_list = np.ndarray.flatten(TrainLabel)\n",
    "    \n",
    "    # Initialize an empty matrix with shape (784, 0)\n",
    "    num_matrix = np.empty((784, 0))\n",
    "    \n",
    "    # Counter to track the number of columns added\n",
    "    n = 0\n",
    "    \n",
    "    # Loop through indices where the flattened list equals the given i\n",
    "    for num in np.argwhere(flattened_list == i).flatten():\n",
    "        if n < 2000:\n",
    "            # Extract the column to add from TrainMat\n",
    "            column_to_add = TrainMat[:, num].reshape(-1, 1)\n",
    "            \n",
    "            # Horizontally stack the new column to the num_matrix\n",
    "            num_matrix = np.hstack((num_matrix, column_to_add))\n",
    "            \n",
    "            # Increment the counter\n",
    "            n += 1\n",
    "    \n",
    "    # Convert the matrix to float32 type\n",
    "    num_matrix = num_matrix.astype(np.float32)\n",
    "    \n",
    "    return num_matrix"
   ]
  },
  {
   "cell_type": "code",
   "execution_count": 6,
   "metadata": {},
   "outputs": [],
   "source": [
    "def plot_digit_3_and_8_function(TrainLabel, TrainMat):\n",
    "    # Get the sorted matrices for digits 3 and 8\n",
    "    A3 = sort_function(3, TrainLabel, TrainMat)\n",
    "    A8 = sort_function(8, TrainLabel, TrainMat)\n",
    "    \n",
    "    # Perform Singular Value Decomposition (SVD) on the matrices\n",
    "    U3, S3, Vt3 = np.linalg.svd(A3)\n",
    "    U8, S8, Vt8 = np.linalg.svd(A8)\n",
    "    \n",
    "    # Prepare the x-axis values (0 to 783)\n",
    "    x = list(range(784))\n",
    "    \n",
    "    # Prepare the y-axis values for singular values\n",
    "    y3 = list(S3)\n",
    "    y8 = list(S8)\n",
    "    \n",
    "    # Create subplots for the singular values\n",
    "    fig, axes = plt.subplots(1, 2, figsize=(10, 4))\n",
    "    \n",
    "    axes[0].scatter(x, y3)\n",
    "    axes[0].set_title('Number 3 Singular Values')\n",
    "    \n",
    "    axes[1].scatter(x, y8)\n",
    "    axes[1].set_title('Number 8 Singular Values')\n",
    "    \n",
    "    # Create subplots for the reshaped vectors\n",
    "    fig, axarr = plt.subplots(2, 3, figsize=(10, 8))\n",
    "    \n",
    "    # Reshape the vectors to 28x28 matrices and transpose\n",
    "    D1 = np.reshape(U3[:, 0], (28, 28)).T\n",
    "    D2 = np.reshape(U3[:, 1], (28, 28)).T\n",
    "    D3 = np.reshape(U3[:, 2], (28, 28)).T\n",
    "    \n",
    "    D4 = np.reshape(U8[:, 0], (28, 28)).T\n",
    "    D5 = np.reshape(U8[:, 1], (28, 28)).T\n",
    "    D6 = np.reshape(U8[:, 2], (28, 28)).T\n",
    "    \n",
    "    # Display the reshaped matrices\n",
    "    axarr[0, 0].imshow(D1, cmap='gray')\n",
    "    axarr[0, 0].set_title('U3[:, 0]')\n",
    "    \n",
    "    axarr[0, 1].imshow(D2, cmap='gray')\n",
    "    axarr[0, 1].set_title('U3[:, 1]')\n",
    "    \n",
    "    axarr[0, 2].imshow(D3, cmap='gray')\n",
    "    axarr[0, 2].set_title('U3[:, 2]')\n",
    "    \n",
    "    axarr[1, 0].imshow(D4, cmap='gray')\n",
    "    axarr[1, 0].set_title('U8[:, 0]')\n",
    "    \n",
    "    axarr[1, 1].imshow(D5, cmap='gray')\n",
    "    axarr[1, 1].set_title('U8[:, 1]')\n",
    "    \n",
    "    axarr[1, 2].imshow(D6, cmap='gray')\n",
    "    axarr[1, 2].set_title('U8[:, 2]')\n",
    "    \n",
    "    plt.show()"
   ]
  },
  {
   "cell_type": "code",
   "execution_count": 7,
   "metadata": {},
   "outputs": [],
   "source": [
    "def plot_function(Uk):\n",
    "    # Reshape the first column of Uk to a 28x28 matrix and transpose it\n",
    "    D = np.reshape(Uk[:, 0], (28, 28)).T\n",
    "    \n",
    "    # Display the matrix as a grayscale image\n",
    "    plt.imshow(D, cmap='gray')\n",
    "    plt.title('Digit Representation')\n",
    "    plt.axis('off')  # Hide the axis for better visualization\n",
    "    plt.show()"
   ]
  },
  {
   "cell_type": "code",
   "execution_count": 8,
   "metadata": {},
   "outputs": [],
   "source": [
    "def plot_all_digits(digit_dict):\n",
    "    # Create subplots with 1 row and 10 columns\n",
    "    fig, axarr = plt.subplots(1, 10, figsize=(15, 3))\n",
    "    \n",
    "    for i in range(10):\n",
    "        # Reshape the first column of each digit's matrix to a 28x28 matrix and transpose it\n",
    "        D = np.reshape(digit_dict[i][:, 0], (28, 28)).T\n",
    "        # Display the reshaped matrix as a grayscale image\n",
    "        axarr[i].imshow(D, cmap='gray')\n",
    "        axarr[i].axis('off')  # Hide the axis for better visualization\n",
    "        axarr[i].set_title(f'Digit {i}', fontsize=10)  # Add title for each subplot\n",
    "    \n",
    "    plt.show()"
   ]
  },
  {
   "cell_type": "code",
   "execution_count": 11,
   "metadata": {},
   "outputs": [],
   "source": [
    "def Compute_SVD(M):\n",
    "    return np.linalg.svd(M, full_matrices=False)"
   ]
  },
  {
   "cell_type": "code",
   "execution_count": 12,
   "metadata": {},
   "outputs": [],
   "source": [
    "def Compute_UK(k, TrainLabel, TrainMat):\n",
    "    uk_dict = {}\n",
    "    projection_dict = {}\n",
    "    \n",
    "    for num in range(10):\n",
    "        # Compute the SVD of the sorted function's result\n",
    "        U, S, Vt = Compute_SVD(sort_function(num, TrainLabel, TrainMat))\n",
    "        \n",
    "        # Get the first k columns of U\n",
    "        U_k = U[:, :k]\n",
    "        uk_dict[num] = U_k\n",
    "        \n",
    "        # Compute the orthogonal projection matrix\n",
    "        U_kt = U_k.T\n",
    "        projection_matrix = np.identity(784) - (U_k @ U_kt)\n",
    "        projection_dict[num] = projection_matrix\n",
    "    \n",
    "    return projection_dict"
   ]
  },
  {
   "cell_type": "code",
   "execution_count": 18,
   "metadata": {},
   "outputs": [],
   "source": [
    "def compute_residual(k, TestMat, TestLabel, TrainLabel, TrainMat):\n",
    "    # Initialize counters\n",
    "    correct_predictions = 0\n",
    "    digit_counts = {i: 0 for i in range(10)}\n",
    "    correct_digit_counts = {i: 0 for i in range(10)}\n",
    "\n",
    "    # Compute the projection matrices for each digit\n",
    "    Uk_Ukt = Compute_UK(k, TrainLabel, TrainMat)\n",
    "\n",
    "    # Loop through each sample in the test set\n",
    "    for x in range(40000):\n",
    "        # Calculate the residuals for the current sample\n",
    "        residuals = [np.linalg.norm(Uk_Ukt[key] @ TestMat[:, x]) for key in Uk_Ukt]\n",
    "        \n",
    "        # Find the minimum residual and the corresponding expected number\n",
    "        residual_min = min(residuals)\n",
    "        expected_number = residuals.index(residual_min)\n",
    "\n",
    "        # Update counters\n",
    "        actual_number = TestLabel[0][x]\n",
    "        if expected_number == actual_number:\n",
    "            correct_predictions += 1\n",
    "            correct_digit_counts[actual_number] += 1\n",
    "        digit_counts[expected_number] += 1\n",
    "\n",
    "    # Calculate total accuracy\n",
    "    total_percentage = (correct_predictions / 40000) * 100\n",
    "    print(f'Accuracy: {total_percentage:.2f}%')\n",
    "\n",
    "    # Calculate and print the accuracy for each digit\n",
    "    for digit in range(10):\n",
    "        digit_accuracy = (correct_digit_counts[digit] / 4000) * 100\n",
    "        print(f'Percentage of correct {digit} with k={k}: {digit_accuracy:.2f}%')\n",
    "\n",
    "    return correct_predictions, correct_digit_counts"
   ]
  },
  {
   "cell_type": "code",
   "execution_count": 21,
   "metadata": {
    "id": "6u6co0wxzjmJ"
   },
   "outputs": [
    {
     "name": "stdout",
     "output_type": "stream",
     "text": [
      "Accuracy: 95.24%\n",
      "Percentage of correct 0 with k=15: 98.15%\n",
      "Percentage of correct 1 with k=15: 98.70%\n",
      "Percentage of correct 2 with k=15: 95.88%\n",
      "Percentage of correct 3 with k=15: 94.88%\n",
      "Percentage of correct 4 with k=15: 95.23%\n",
      "Percentage of correct 5 with k=15: 92.40%\n",
      "Percentage of correct 6 with k=15: 96.90%\n",
      "Percentage of correct 7 with k=15: 95.38%\n",
      "Percentage of correct 8 with k=15: 90.97%\n",
      "Percentage of correct 9 with k=15: 93.95%\n"
     ]
    },
    {
     "data": {
      "text/plain": [
       "(38097,\n",
       " {0: 3926,\n",
       "  1: 3948,\n",
       "  2: 3835,\n",
       "  3: 3795,\n",
       "  4: 3809,\n",
       "  5: 3696,\n",
       "  6: 3876,\n",
       "  7: 3815,\n",
       "  8: 3639,\n",
       "  9: 3758})"
      ]
     },
     "execution_count": 21,
     "metadata": {},
     "output_type": "execute_result"
    }
   ],
   "source": [
    "compute_residual(15, TestMat, TestLabel, TrainLabel, TrainMat)"
   ]
  },
  {
   "cell_type": "code",
   "execution_count": 20,
   "metadata": {},
   "outputs": [
    {
     "data": {
      "image/png": "[encoded data removed]",
      "text/plain": [
       "<Figure size 720x288 with 2 Axes>"
      ]
     },
     "metadata": {
      "needs_background": "light"
     },
     "output_type": "display_data"
    },
    {
     "data": {
      "image/png": "[encoded data removed]",
      "text/plain": [
       "<Figure size 720x576 with 6 Axes>"
      ]
     },
     "metadata": {
      "needs_background": "light"
     },
     "output_type": "display_data"
    }
   ],
   "source": [
    "plot_digit_3_and_8_function(TrainLabel, TrainMat)"
   ]
  }
 ],
 "metadata": {
  "colab": {
   "provenance": []
  },
  "kernelspec": {
   "display_name": "Python 3",
   "language": "python",
   "name": "python3"
  },
  "language_info": {
   "codemirror_mode": {
    "name": "ipython",
    "version": 3
   },
   "file_extension": ".py",
   "mimetype": "text/x-python",
   "name": "python",
   "nbconvert_exporter": "python",
   "pygments_lexer": "ipython3",
   "version": "3.8.5"
  }
 },
 "nbformat": 4,
 "nbformat_minor": 1
}
